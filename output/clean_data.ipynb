{
 "cells": [
  {
   "cell_type": "code",
   "execution_count": 15,
   "metadata": {},
   "outputs": [],
   "source": [
    "import pandas as pd\n",
    "import os"
   ]
  },
  {
   "cell_type": "code",
   "execution_count": 20,
   "metadata": {},
   "outputs": [],
   "source": [
    "# loop over all subjects\n",
    "for i in range(1, 6):\n",
    "\n",
    "    # 1 -> 001, ..., 10 -> 010\n",
    "    sub = str(i).zfill(3)\n",
    "\n",
    "    # loop over all runs 1 & 2\n",
    "    for run in range(1,3):\n",
    "\n",
    "        # load df\n",
    "        df = pd.read_csv(f'{sub}/{sub}_run{run}.csv')\n",
    "\n",
    "        # clean df\n",
    "        df['trial_type'] = df['ImgPath'].apply(lambda x: 'house' if 'houses' in x else 'face' if 'faces' in x else None)\n",
    "        df['onset'] = round(df['onset'], 2)\n",
    "        df['duration'] = round(df['img_dur'], 1)\n",
    "        df['end_time'] = round(df['end_time'], 2)\n",
    "        df = df[['trial_type', 'onset', 'end_time', 'duration']] # keep only desired cols\n",
    "\n",
    "        # block design df: \n",
    "        # create a new df with every 20 rows (each block)\n",
    "        blocked_df = df.groupby(df.index // 20).apply(lambda x: pd.Series({\n",
    "            'trial_type': x['trial_type'].unique()[0],\n",
    "            'onset': round(x['onset'].iloc[0]),\n",
    "            'duration': round(x['end_time'].iloc[-1] - x['onset'].iloc[0])\n",
    "        })).reset_index(drop=True)\n",
    "\n",
    "\n",
    "        # save cleaned df as csv\n",
    "        save_sub_path = (f'cleaned_data/{sub}')\n",
    "        if not os.path.exists(save_sub_path):\n",
    "            os.makedirs(save_sub_path)\n",
    "        \n",
    "        blocked_df.to_csv(f'{save_sub_path}/sub-{sub}_task-localizer_run-{run}_events.csv')\n"
   ]
  },
  {
   "cell_type": "code",
   "execution_count": null,
   "metadata": {},
   "outputs": [],
   "source": []
  }
 ],
 "metadata": {
  "kernelspec": {
   "display_name": "base",
   "language": "python",
   "name": "python3"
  },
  "language_info": {
   "codemirror_mode": {
    "name": "ipython",
    "version": 3
   },
   "file_extension": ".py",
   "mimetype": "text/x-python",
   "name": "python",
   "nbconvert_exporter": "python",
   "pygments_lexer": "ipython3",
   "version": "3.11.5"
  }
 },
 "nbformat": 4,
 "nbformat_minor": 2
}
